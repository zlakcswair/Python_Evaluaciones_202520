{
  "nbformat": 4,
  "nbformat_minor": 0,
  "metadata": {
    "colab": {
      "provenance": [],
      "authorship_tag": "ABX9TyO8rYBN3Mxp07L6JSSEYzvX",
      "include_colab_link": true
    },
    "kernelspec": {
      "name": "python3",
      "display_name": "Python 3"
    },
    "language_info": {
      "name": "python"
    }
  },
  "cells": [
    {
      "cell_type": "markdown",
      "metadata": {
        "id": "view-in-github",
        "colab_type": "text"
      },
      "source": [
        "<a href=\"https://colab.research.google.com/github/zlakcswair/Python_Evaluaciones_202520/blob/main/Evaluacion_1.ipynb\" target=\"_parent\"><img src=\"https://colab.research.google.com/assets/colab-badge.svg\" alt=\"Open In Colab\"/></a>"
      ]
    },
    {
      "cell_type": "markdown",
      "source": [
        "# Evaluación 1\n",
        "## Python aplicado a la Ingeniería 202520\n",
        "**Docente:** Miguel Ortiz\n",
        "\n",
        "**Estudiante:** Wilmer David Jiménez Díaz\n",
        "\n",
        "**email:** wilmer.jimenez@upb.edu.co\n",
        "\n",
        "**Fecha:** 21/07/2025"
      ],
      "metadata": {
        "id": "Hl2z8YZMVxwJ"
      }
    },
    {
      "cell_type": "code",
      "source": [
        "import random\n",
        "\n",
        "subject = [\"Mami\", \"Bebé\", \"Princess\"]\n",
        "intention = [\"yo quiero\", \"yo puedo\", \"yo vengo a\", \"voy a\"]\n",
        "action = [\"encendelte\", \"amalte\", \"ligar\", \"jugar\"]\n",
        "adjective = [\"suave\", \"lento\", \"rápido\", \"fuerte\"]\n",
        "compl_1 = [\"hasta que salga el sol\", \"toda la noche\", \"hasta el amanecer\", \"todo el día\"]\n",
        "compl_2 = [\"sin anestecia\", \"sin compromiso\", \"feis to feis\", \"sin miedo\"]\n",
        "\n",
        "elements = [subject, intention, action, adjective, compl_1, compl_2]\n",
        "\n",
        "song = \"\"\n",
        "for element in elements:\n",
        "    song += random.choice(element) + \" \"\n",
        "\n",
        "print(song)"
      ],
      "metadata": {
        "id": "Va-agf7zV_KR"
      },
      "execution_count": null,
      "outputs": []
    }
  ]
}