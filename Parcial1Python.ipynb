{
  "nbformat": 4,
  "nbformat_minor": 0,
  "metadata": {
    "colab": {
      "provenance": [],
      "authorship_tag": "ABX9TyNIc3DOpgXdi6utUT/7+DHP",
      "include_colab_link": true
    },
    "kernelspec": {
      "name": "python3",
      "display_name": "Python 3"
    },
    "language_info": {
      "name": "python"
    }
  },
  "cells": [
    {
      "cell_type": "markdown",
      "metadata": {
        "id": "view-in-github",
        "colab_type": "text"
      },
      "source": [
        "<a href=\"https://colab.research.google.com/github/zlakcswair/Python_Evaluaciones_202520/blob/main/Parcial1Python.ipynb\" target=\"_parent\"><img src=\"https://colab.research.google.com/assets/colab-badge.svg\" alt=\"Open In Colab\"/></a>"
      ]
    },
    {
      "cell_type": "code",
      "execution_count": 2,
      "metadata": {
        "colab": {
          "base_uri": "https://localhost:8080/"
        },
        "id": "w3AOoKNfo-ws",
        "outputId": "79880d59-df4f-4f8e-f651-037edba67608"
      },
      "outputs": [
        {
          "output_type": "stream",
          "name": "stdout",
          "text": [
            "l: 3\n",
            "o: 2\n",
            "h: 1\n",
            "e: 1\n",
            "w: 1\n",
            "r: 1\n",
            "d: 1\n"
          ]
        }
      ],
      "source": [
        "# Problem #1: letter_frequency\n",
        "# Contar cuántas veces aparece cada letra en una frase, ignorando mayúsculas y espacios.\n",
        "# Además, mostrar los resultados de mayor a menor frecuencia.\n",
        "\n",
        "sentence = \"Hello World\"  # Frase de entrada\n",
        "\n",
        "# Convertimos todo a minúsculas y quitamos los espacios para normalizar la frase\n",
        "normalized_sentence = \"\".join(sentence.lower().split())\n",
        "\n",
        "# Creamos un diccionario vacío para almacenar las frecuencias de cada letra\n",
        "output_dict = {}\n",
        "\n",
        "# Recorremos cada letra en la frase normalizada\n",
        "for i in range(len(normalized_sentence)):\n",
        "    # Para cada letra, contamos cuántas veces aparece en la frase completa\n",
        "    output_dict[normalized_sentence[i]] = normalized_sentence.count(normalized_sentence[i])\n",
        "\n",
        "# Ordenamos el diccionario de mayor a menor según la frecuencia de cada letra\n",
        "ordered_dict = dict(sorted(output_dict.items(), key=lambda x: x[1], reverse=True))\n",
        "\n",
        "# Recorremos el diccionario ordenado e imprimimos cada letra con su frecuencia\n",
        "for letter_count in ordered_dict:\n",
        "    print(f\"{letter_count}: {ordered_dict[letter_count]}\")\n"
      ]
    },
    {
      "cell_type": "code",
      "source": [
        "# Problem #2: word_initial_count\n",
        "# Contar cuántas palabras empiezan con la misma letra (sin distinguir mayúsculas/minúsculas).\n",
        "\n",
        "strings = [\"Apple\", \"Avocado\", \"banana\", \"Berry\", \"apricot\", \"blueberry\"]  # Lista de palabras\n",
        "\n",
        "initial_letters = []  # Lista que en este código no se usa (puede eliminarse)\n",
        "output_dict = {}      # Diccionario donde se guardarán las letras iniciales y su conteo\n",
        "\n",
        "# Primer ciclo: inicializamos el diccionario con claves que son las letras iniciales (en minúscula) y valor 0\n",
        "for word in strings:\n",
        "    output_dict[word[0].lower()] = 0\n",
        "\n",
        "# Segundo ciclo: sumamos 1 por cada palabra que empieza con esa letra\n",
        "for word in strings:\n",
        "    output_dict[word[0].lower()] += 1\n",
        "\n",
        "# Imprimimos el resultado: cuántas palabras comienzan con cada letra\n",
        "print(output_dict)\n"
      ],
      "metadata": {
        "colab": {
          "base_uri": "https://localhost:8080/"
        },
        "id": "hseGzbrgpD5X",
        "outputId": "2b16cf48-64dd-4d7c-e5c0-4c5ca5009ee9"
      },
      "execution_count": 4,
      "outputs": [
        {
          "output_type": "stream",
          "name": "stdout",
          "text": [
            "{'a': 3, 'b': 3}\n"
          ]
        }
      ]
    },
    {
      "cell_type": "code",
      "source": [
        "# Problem #3: product_price_analysis\n",
        "# Dado un diccionario de productos con código, nombre y precio,\n",
        "# mostrar el producto más barato y el más caro.\n",
        "\n",
        "products = {\n",
        "  \"P01\": {\"name\": \"USB Cable\", \"price\": 12.5},       # Producto 1\n",
        "  \"P02\": {\"name\": \"HDMI Cable\", \"price\": 8.0},       # Producto 2\n",
        "  \"P03\": {\"name\": \"Wireless Mouse\", \"price\": 25.0}   # Producto 3\n",
        "}\n",
        "\n",
        "# Encontrar el producto con el menor precio usando min() y una función lambda para comparar precios\n",
        "cheapest = min(products.values(), key=lambda p: p[\"price\"])\n",
        "\n",
        "# Encontrar el producto con el mayor precio usando max() y la misma técnica\n",
        "most_expensive = max(products.values(), key=lambda p: p[\"price\"])\n",
        "\n",
        "# Mostrar nombre y precio del producto más barato\n",
        "print(f\"Cheapest: {cheapest['name']} - ${cheapest['price']}\")\n",
        "\n",
        "# Mostrar nombre y precio del producto más caro\n",
        "print(f\"Most expensive: {most_expensive['name']} - ${most_expensive['price']}\")\n"
      ],
      "metadata": {
        "colab": {
          "base_uri": "https://localhost:8080/"
        },
        "id": "7h5L6NKT1ZBM",
        "outputId": "e949a33f-2343-4deb-b488-6c3d3ff1fc79"
      },
      "execution_count": 3,
      "outputs": [
        {
          "output_type": "stream",
          "name": "stdout",
          "text": [
            "Cheapest: HDMI Cable - $8.0\n",
            "Most expensive: Wireless Mouse - $25.0\n"
          ]
        }
      ]
    },
    {
      "cell_type": "code",
      "source": [],
      "metadata": {
        "id": "MZEd4yoO4X1P"
      },
      "execution_count": null,
      "outputs": []
    }
  ]
}